{
 "cells": [
  {
   "cell_type": "code",
   "execution_count": 1,
   "id": "f829bb11",
   "metadata": {},
   "outputs": [
    {
     "name": "stdout",
     "output_type": "stream",
     "text": [
      "36\n"
     ]
    }
   ],
   "source": [
    "#question1\n",
    "list=[2,6,3]\n",
    "m=1\n",
    "for i in list:\n",
    "    m=m*i #comme l'exemple du factoriel\n",
    "print(m)"
   ]
  },
  {
   "cell_type": "code",
   "execution_count": 2,
   "id": "0d3d7d49",
   "metadata": {},
   "outputs": [
    {
     "name": "stdout",
     "output_type": "stream",
     "text": [
      "[(1, 2), (2, 1), (2, 3), (2, 5), (4, 4)]\n"
     ]
    }
   ],
   "source": [
    "#question2\n",
    "list=[(2,5),(1,2),(4,4),(2,3),(2,1)]\n",
    "list.sort()\n",
    "print(list)"
   ]
  },
  {
   "cell_type": "code",
   "execution_count": 3,
   "id": "aafaeabe",
   "metadata": {},
   "outputs": [
    {
     "name": "stdout",
     "output_type": "stream",
     "text": [
      "{'a': 400, 'b': 400, 'c': 300, 'd': 400}\n"
     ]
    }
   ],
   "source": [
    "#question3\n",
    "d1={'a':100,'b':200,'c':300}\n",
    "d2={'a':300,'b':200,'d':400}\n",
    "d3={}\n",
    "for key in d1.keys():\n",
    "    for key2 in d2.keys():\n",
    "        if key==key2:\n",
    "            d3[key]=d1[key]+d2[key2]\n",
    "        elif key not in d2.keys() :\n",
    "            d3[key]=d1[key]\n",
    "            \n",
    "for key2 in d2.keys():\n",
    "        if key2 not in d1.keys(): #simplifier lfou9ania elever 1 boucle\n",
    "            d3[key2]=d2[key2]\n",
    "print(d3)"
   ]
  },
  {
   "cell_type": "code",
   "execution_count": 4,
   "id": "5c18b22c",
   "metadata": {},
   "outputs": [
    {
     "name": "stdout",
     "output_type": "stream",
     "text": [
      "entrer la valeur de n:8\n",
      "{1: 1, 2: 4, 3: 9, 4: 16, 5: 25, 6: 36, 7: 49, 8: 64}\n"
     ]
    }
   ],
   "source": [
    "#QUESTION4\n",
    "n=input(\"entrer la valeur de n:\")\n",
    "n=int(n)\n",
    "my_dictionary={}\n",
    "p=1\n",
    "i=1\n",
    "while i!=n+1:\n",
    "    p=i**2  \n",
    "    my_dictionary[i]=p \n",
    "    i=i+1 #i est placee ici sinon le i lfou9 c'est tae le compteur\n",
    "print(my_dictionary)"
   ]
  },
  {
   "cell_type": "code",
   "execution_count": 5,
   "id": "8af61d97",
   "metadata": {},
   "outputs": [
    {
     "name": "stdout",
     "output_type": "stream",
     "text": [
      "[('item3', '24.5'), ('item2', '15.10'), ('item1', '12.20')]\n"
     ]
    }
   ],
   "source": [
    "#Question 5\n",
    "list= [('item1', '12.20'), ('item2', '15.10'), ('item3', '24.5')]\n",
    "list.sort(reverse=True)\n",
    "print(list)"
   ]
  },
  {
   "cell_type": "code",
   "execution_count": null,
   "id": "d3b974dc",
   "metadata": {},
   "outputs": [],
   "source": []
  }
 ],
 "metadata": {
  "kernelspec": {
   "display_name": "Python 3 (ipykernel)",
   "language": "python",
   "name": "python3"
  },
  "language_info": {
   "codemirror_mode": {
    "name": "ipython",
    "version": 3
   },
   "file_extension": ".py",
   "mimetype": "text/x-python",
   "name": "python",
   "nbconvert_exporter": "python",
   "pygments_lexer": "ipython3",
   "version": "3.9.12"
  }
 },
 "nbformat": 4,
 "nbformat_minor": 5
}
